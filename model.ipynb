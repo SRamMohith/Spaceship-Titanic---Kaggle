{
 "cells": [
  {
   "cell_type": "code",
   "execution_count": 1,
   "id": "e56adf32",
   "metadata": {},
   "outputs": [],
   "source": [
    "import numpy as np\n",
    "import pandas as pd\n",
    "import matplotlib.pyplot as plt\n",
    "import seaborn as sns"
   ]
  },
  {
   "cell_type": "code",
   "execution_count": 2,
   "id": "96cb154f",
   "metadata": {},
   "outputs": [],
   "source": [
    "df = pd.read_csv('train.csv')"
   ]
  },
  {
   "cell_type": "code",
   "execution_count": 8,
   "id": "c6083cce",
   "metadata": {
    "scrolled": true
   },
   "outputs": [
    {
     "data": {
      "text/html": [
       "<div>\n",
       "<style scoped>\n",
       "    .dataframe tbody tr th:only-of-type {\n",
       "        vertical-align: middle;\n",
       "    }\n",
       "\n",
       "    .dataframe tbody tr th {\n",
       "        vertical-align: top;\n",
       "    }\n",
       "\n",
       "    .dataframe thead th {\n",
       "        text-align: right;\n",
       "    }\n",
       "</style>\n",
       "<table border=\"1\" class=\"dataframe\">\n",
       "  <thead>\n",
       "    <tr style=\"text-align: right;\">\n",
       "      <th></th>\n",
       "      <th>PassengerId</th>\n",
       "      <th>HomePlanet</th>\n",
       "      <th>CryoSleep</th>\n",
       "      <th>Cabin</th>\n",
       "      <th>Destination</th>\n",
       "      <th>Age</th>\n",
       "      <th>VIP</th>\n",
       "      <th>RoomService</th>\n",
       "      <th>FoodCourt</th>\n",
       "      <th>ShoppingMall</th>\n",
       "      <th>Spa</th>\n",
       "      <th>VRDeck</th>\n",
       "      <th>Name</th>\n",
       "      <th>Transported</th>\n",
       "    </tr>\n",
       "  </thead>\n",
       "  <tbody>\n",
       "    <tr>\n",
       "      <th>0</th>\n",
       "      <td>0001_01</td>\n",
       "      <td>Europa</td>\n",
       "      <td>False</td>\n",
       "      <td>B/0/P</td>\n",
       "      <td>TRAPPIST-1e</td>\n",
       "      <td>39.0</td>\n",
       "      <td>False</td>\n",
       "      <td>0.0</td>\n",
       "      <td>0.0</td>\n",
       "      <td>0.0</td>\n",
       "      <td>0.0</td>\n",
       "      <td>0.0</td>\n",
       "      <td>Maham Ofracculy</td>\n",
       "      <td>False</td>\n",
       "    </tr>\n",
       "    <tr>\n",
       "      <th>1</th>\n",
       "      <td>0002_01</td>\n",
       "      <td>Earth</td>\n",
       "      <td>False</td>\n",
       "      <td>F/0/S</td>\n",
       "      <td>TRAPPIST-1e</td>\n",
       "      <td>24.0</td>\n",
       "      <td>False</td>\n",
       "      <td>109.0</td>\n",
       "      <td>9.0</td>\n",
       "      <td>25.0</td>\n",
       "      <td>549.0</td>\n",
       "      <td>44.0</td>\n",
       "      <td>Juanna Vines</td>\n",
       "      <td>True</td>\n",
       "    </tr>\n",
       "    <tr>\n",
       "      <th>2</th>\n",
       "      <td>0003_01</td>\n",
       "      <td>Europa</td>\n",
       "      <td>False</td>\n",
       "      <td>A/0/S</td>\n",
       "      <td>TRAPPIST-1e</td>\n",
       "      <td>58.0</td>\n",
       "      <td>True</td>\n",
       "      <td>43.0</td>\n",
       "      <td>3576.0</td>\n",
       "      <td>0.0</td>\n",
       "      <td>6715.0</td>\n",
       "      <td>49.0</td>\n",
       "      <td>Altark Susent</td>\n",
       "      <td>False</td>\n",
       "    </tr>\n",
       "    <tr>\n",
       "      <th>3</th>\n",
       "      <td>0003_02</td>\n",
       "      <td>Europa</td>\n",
       "      <td>False</td>\n",
       "      <td>A/0/S</td>\n",
       "      <td>TRAPPIST-1e</td>\n",
       "      <td>33.0</td>\n",
       "      <td>False</td>\n",
       "      <td>0.0</td>\n",
       "      <td>1283.0</td>\n",
       "      <td>371.0</td>\n",
       "      <td>3329.0</td>\n",
       "      <td>193.0</td>\n",
       "      <td>Solam Susent</td>\n",
       "      <td>False</td>\n",
       "    </tr>\n",
       "    <tr>\n",
       "      <th>4</th>\n",
       "      <td>0004_01</td>\n",
       "      <td>Earth</td>\n",
       "      <td>False</td>\n",
       "      <td>F/1/S</td>\n",
       "      <td>TRAPPIST-1e</td>\n",
       "      <td>16.0</td>\n",
       "      <td>False</td>\n",
       "      <td>303.0</td>\n",
       "      <td>70.0</td>\n",
       "      <td>151.0</td>\n",
       "      <td>565.0</td>\n",
       "      <td>2.0</td>\n",
       "      <td>Willy Santantines</td>\n",
       "      <td>True</td>\n",
       "    </tr>\n",
       "    <tr>\n",
       "      <th>...</th>\n",
       "      <td>...</td>\n",
       "      <td>...</td>\n",
       "      <td>...</td>\n",
       "      <td>...</td>\n",
       "      <td>...</td>\n",
       "      <td>...</td>\n",
       "      <td>...</td>\n",
       "      <td>...</td>\n",
       "      <td>...</td>\n",
       "      <td>...</td>\n",
       "      <td>...</td>\n",
       "      <td>...</td>\n",
       "      <td>...</td>\n",
       "      <td>...</td>\n",
       "    </tr>\n",
       "    <tr>\n",
       "      <th>8688</th>\n",
       "      <td>9276_01</td>\n",
       "      <td>Europa</td>\n",
       "      <td>False</td>\n",
       "      <td>A/98/P</td>\n",
       "      <td>55 Cancri e</td>\n",
       "      <td>41.0</td>\n",
       "      <td>True</td>\n",
       "      <td>0.0</td>\n",
       "      <td>6819.0</td>\n",
       "      <td>0.0</td>\n",
       "      <td>1643.0</td>\n",
       "      <td>74.0</td>\n",
       "      <td>Gravior Noxnuther</td>\n",
       "      <td>False</td>\n",
       "    </tr>\n",
       "    <tr>\n",
       "      <th>8689</th>\n",
       "      <td>9278_01</td>\n",
       "      <td>Earth</td>\n",
       "      <td>True</td>\n",
       "      <td>G/1499/S</td>\n",
       "      <td>PSO J318.5-22</td>\n",
       "      <td>18.0</td>\n",
       "      <td>False</td>\n",
       "      <td>0.0</td>\n",
       "      <td>0.0</td>\n",
       "      <td>0.0</td>\n",
       "      <td>0.0</td>\n",
       "      <td>0.0</td>\n",
       "      <td>Kurta Mondalley</td>\n",
       "      <td>False</td>\n",
       "    </tr>\n",
       "    <tr>\n",
       "      <th>8690</th>\n",
       "      <td>9279_01</td>\n",
       "      <td>Earth</td>\n",
       "      <td>False</td>\n",
       "      <td>G/1500/S</td>\n",
       "      <td>TRAPPIST-1e</td>\n",
       "      <td>26.0</td>\n",
       "      <td>False</td>\n",
       "      <td>0.0</td>\n",
       "      <td>0.0</td>\n",
       "      <td>1872.0</td>\n",
       "      <td>1.0</td>\n",
       "      <td>0.0</td>\n",
       "      <td>Fayey Connon</td>\n",
       "      <td>True</td>\n",
       "    </tr>\n",
       "    <tr>\n",
       "      <th>8691</th>\n",
       "      <td>9280_01</td>\n",
       "      <td>Europa</td>\n",
       "      <td>False</td>\n",
       "      <td>E/608/S</td>\n",
       "      <td>55 Cancri e</td>\n",
       "      <td>32.0</td>\n",
       "      <td>False</td>\n",
       "      <td>0.0</td>\n",
       "      <td>1049.0</td>\n",
       "      <td>0.0</td>\n",
       "      <td>353.0</td>\n",
       "      <td>3235.0</td>\n",
       "      <td>Celeon Hontichre</td>\n",
       "      <td>False</td>\n",
       "    </tr>\n",
       "    <tr>\n",
       "      <th>8692</th>\n",
       "      <td>9280_02</td>\n",
       "      <td>Europa</td>\n",
       "      <td>False</td>\n",
       "      <td>E/608/S</td>\n",
       "      <td>TRAPPIST-1e</td>\n",
       "      <td>44.0</td>\n",
       "      <td>False</td>\n",
       "      <td>126.0</td>\n",
       "      <td>4688.0</td>\n",
       "      <td>0.0</td>\n",
       "      <td>0.0</td>\n",
       "      <td>12.0</td>\n",
       "      <td>Propsh Hontichre</td>\n",
       "      <td>True</td>\n",
       "    </tr>\n",
       "  </tbody>\n",
       "</table>\n",
       "<p>8693 rows × 14 columns</p>\n",
       "</div>"
      ],
      "text/plain": [
       "     PassengerId HomePlanet CryoSleep     Cabin    Destination   Age    VIP  \\\n",
       "0        0001_01     Europa     False     B/0/P    TRAPPIST-1e  39.0  False   \n",
       "1        0002_01      Earth     False     F/0/S    TRAPPIST-1e  24.0  False   \n",
       "2        0003_01     Europa     False     A/0/S    TRAPPIST-1e  58.0   True   \n",
       "3        0003_02     Europa     False     A/0/S    TRAPPIST-1e  33.0  False   \n",
       "4        0004_01      Earth     False     F/1/S    TRAPPIST-1e  16.0  False   \n",
       "...          ...        ...       ...       ...            ...   ...    ...   \n",
       "8688     9276_01     Europa     False    A/98/P    55 Cancri e  41.0   True   \n",
       "8689     9278_01      Earth      True  G/1499/S  PSO J318.5-22  18.0  False   \n",
       "8690     9279_01      Earth     False  G/1500/S    TRAPPIST-1e  26.0  False   \n",
       "8691     9280_01     Europa     False   E/608/S    55 Cancri e  32.0  False   \n",
       "8692     9280_02     Europa     False   E/608/S    TRAPPIST-1e  44.0  False   \n",
       "\n",
       "      RoomService  FoodCourt  ShoppingMall     Spa  VRDeck               Name  \\\n",
       "0             0.0        0.0           0.0     0.0     0.0    Maham Ofracculy   \n",
       "1           109.0        9.0          25.0   549.0    44.0       Juanna Vines   \n",
       "2            43.0     3576.0           0.0  6715.0    49.0      Altark Susent   \n",
       "3             0.0     1283.0         371.0  3329.0   193.0       Solam Susent   \n",
       "4           303.0       70.0         151.0   565.0     2.0  Willy Santantines   \n",
       "...           ...        ...           ...     ...     ...                ...   \n",
       "8688          0.0     6819.0           0.0  1643.0    74.0  Gravior Noxnuther   \n",
       "8689          0.0        0.0           0.0     0.0     0.0    Kurta Mondalley   \n",
       "8690          0.0        0.0        1872.0     1.0     0.0       Fayey Connon   \n",
       "8691          0.0     1049.0           0.0   353.0  3235.0   Celeon Hontichre   \n",
       "8692        126.0     4688.0           0.0     0.0    12.0   Propsh Hontichre   \n",
       "\n",
       "      Transported  \n",
       "0           False  \n",
       "1            True  \n",
       "2           False  \n",
       "3           False  \n",
       "4            True  \n",
       "...           ...  \n",
       "8688        False  \n",
       "8689        False  \n",
       "8690         True  \n",
       "8691        False  \n",
       "8692         True  \n",
       "\n",
       "[8693 rows x 14 columns]"
      ]
     },
     "execution_count": 8,
     "metadata": {},
     "output_type": "execute_result"
    }
   ],
   "source": [
    "df"
   ]
  },
  {
   "cell_type": "code",
   "execution_count": 37,
   "id": "5fa7ca53",
   "metadata": {},
   "outputs": [
    {
     "name": "stdout",
     "output_type": "stream",
     "text": [
      "<class 'pandas.core.frame.DataFrame'>\n",
      "RangeIndex: 8693 entries, 0 to 8692\n",
      "Data columns (total 18 columns):\n",
      " #   Column            Non-Null Count  Dtype  \n",
      "---  ------            --------------  -----  \n",
      " 0   PassengerId       8693 non-null   object \n",
      " 1   HomePlanet        8492 non-null   object \n",
      " 2   CryoSleep         8476 non-null   object \n",
      " 3   Destination       8511 non-null   object \n",
      " 4   Age               8693 non-null   float64\n",
      " 5   VIP               8490 non-null   object \n",
      " 6   RoomService       8512 non-null   float64\n",
      " 7   FoodCourt         8510 non-null   float64\n",
      " 8   ShoppingMall      8485 non-null   float64\n",
      " 9   Spa               8510 non-null   float64\n",
      " 10  VRDeck            8505 non-null   float64\n",
      " 11  Name              8693 non-null   object \n",
      " 12  Transported       8693 non-null   bool   \n",
      " 13  PassengerId_gggg  8693 non-null   object \n",
      " 14  PassengerId_pp    8693 non-null   object \n",
      " 15  Cabin_deck        8494 non-null   object \n",
      " 16  Cabin_num         8494 non-null   object \n",
      " 17  Cabin_side        8494 non-null   object \n",
      "dtypes: bool(1), float64(6), object(11)\n",
      "memory usage: 1.1+ MB\n"
     ]
    }
   ],
   "source": [
    "df.info()"
   ]
  },
  {
   "cell_type": "markdown",
   "id": "1067bd91",
   "metadata": {},
   "source": [
    "Columns that need to be further splitted into columns,\n",
    "1. PassengerId to PassengerId_gggg and PassengerId__pp\n",
    "2. Cabin to Cabin_deck, Cabin_num, Cabin_side"
   ]
  },
  {
   "cell_type": "code",
   "execution_count": 151,
   "id": "ef5f8572",
   "metadata": {},
   "outputs": [],
   "source": [
    "df[['PassengerId_gggg','PassengerId_pp']] = df['PassengerId'].str.split('_',expand=True)\n",
    "df[['Cabin_deck','Cabin_num','Cabin_side']] = df['Cabin'].str.split('/',expand=True)\n",
    "df.drop('Cabin',axis=1,inplace=True)"
   ]
  },
  {
   "cell_type": "code",
   "execution_count": 152,
   "id": "e59ee07c",
   "metadata": {},
   "outputs": [],
   "source": [
    "# Name is not required for the purpose of predicting since it is unique for each\n",
    "df['Name'] = df['Name'].fillna(value='Name not entered')"
   ]
  },
  {
   "cell_type": "code",
   "execution_count": 153,
   "id": "69abff31",
   "metadata": {},
   "outputs": [
    {
     "data": {
      "text/plain": [
       "PassengerId_pp\n",
       "01    30.0\n",
       "02    27.0\n",
       "03    24.0\n",
       "04    23.0\n",
       "05    25.0\n",
       "06    22.0\n",
       "07    24.0\n",
       "08    28.0\n",
       "Name: Age, dtype: float64"
      ]
     },
     "execution_count": 153,
     "metadata": {},
     "output_type": "execute_result"
    }
   ],
   "source": [
    "#We can try corelating age of traveller with the number of passesngers he is travelling\n",
    "np.round(df.groupby('PassengerId_pp')['Age'].mean())"
   ]
  },
  {
   "cell_type": "code",
   "execution_count": 154,
   "id": "31c533b2",
   "metadata": {},
   "outputs": [],
   "source": [
    "df[\"Age\"] = df['Age'].fillna(np.round(df.groupby('PassengerId_pp')['Age'].transform('mean')))"
   ]
  },
  {
   "cell_type": "code",
   "execution_count": 155,
   "id": "77bbcfa3",
   "metadata": {},
   "outputs": [],
   "source": [
    "#The percentage of home planet is highest for Earth. So fill all empty values with Earth\n",
    "df['HomePlanet'] = df['HomePlanet'].fillna('Earth')"
   ]
  },
  {
   "cell_type": "code",
   "execution_count": 156,
   "id": "3ae057e3",
   "metadata": {},
   "outputs": [],
   "source": [
    "#Map destination according to the home planet\n",
    "df['Destination'] = df['Destination'].fillna(df.groupby('HomePlanet')['Destination'].transform(lambda x: x.value_counts().index[0]))"
   ]
  },
  {
   "cell_type": "code",
   "execution_count": 157,
   "id": "c9d965dd",
   "metadata": {},
   "outputs": [],
   "source": [
    "#Filling VIP based on home planet and destination\n",
    "df['VIP'] = df['VIP'].fillna(df.groupby(['HomePlanet','Destination'])['VIP'].transform(lambda x: x.value_counts().index[0]))"
   ]
  },
  {
   "cell_type": "code",
   "execution_count": 159,
   "id": "69073bf8",
   "metadata": {},
   "outputs": [],
   "source": [
    "#filling cryosleep using homeplanet, destination and vip\n",
    "df['CryoSleep'] = df['CryoSleep'].fillna(df.groupby(['HomePlanet','Destination','VIP'])['CryoSleep'].transform(lambda x: x.value_counts().index[0]))"
   ]
  },
  {
   "cell_type": "code",
   "execution_count": 166,
   "id": "66de94bd",
   "metadata": {
    "scrolled": true
   },
   "outputs": [],
   "source": [
    "#if in cryosleep the passenger will not spend anything\n",
    "df[df['CryoSleep']==True][['RoomService','FoodCourt','ShoppingMall','Spa','VRDeck']].fillna(0,axis=1,inplace=True)"
   ]
  },
  {
   "cell_type": "code",
   "execution_count": 172,
   "id": "e993e260",
   "metadata": {},
   "outputs": [],
   "source": [
    "#filling all the services based on vip or not\n",
    "list = ['RoomService','FoodCourt','ShoppingMall','Spa','VRDeck']\n",
    "df[list] = df[list].fillna(df.groupby('VIP')[list].transform('mean'))"
   ]
  },
  {
   "cell_type": "code",
   "execution_count": 175,
   "id": "e45e6ddb",
   "metadata": {},
   "outputs": [],
   "source": [
    "# filling cabin details using homeplanet and destination planet\n",
    "list2 = ['Cabin_deck','Cabin_num','Cabin_side']\n",
    "df[list2] = df[list2].fillna(df.groupby(['HomePlanet', 'Destination'])[list2].transform(lambda x: x.value_counts().index[0]))"
   ]
  },
  {
   "cell_type": "code",
   "execution_count": 187,
   "id": "aee608ce",
   "metadata": {
    "scrolled": false
   },
   "outputs": [
    {
     "data": {
      "text/plain": [
       "PassengerId         0\n",
       "HomePlanet          0\n",
       "CryoSleep           0\n",
       "Destination         0\n",
       "Age                 0\n",
       "VIP                 0\n",
       "RoomService         0\n",
       "FoodCourt           0\n",
       "ShoppingMall        0\n",
       "Spa                 0\n",
       "VRDeck              0\n",
       "Name                0\n",
       "Transported         0\n",
       "PassengerId_gggg    0\n",
       "PassengerId_pp      0\n",
       "Cabin_deck          0\n",
       "Cabin_num           0\n",
       "Cabin_side          0\n",
       "dtype: int64"
      ]
     },
     "execution_count": 187,
     "metadata": {},
     "output_type": "execute_result"
    }
   ],
   "source": [
    "df.isnull().sum()"
   ]
  },
  {
   "cell_type": "code",
   "execution_count": 18,
   "id": "88616160",
   "metadata": {},
   "outputs": [],
   "source": [
    "df = fill_missing_data(df)"
   ]
  },
  {
   "cell_type": "markdown",
   "id": "572a299b",
   "metadata": {},
   "source": [
    "So far we have used different methods to fill in the missinig data. Now we have to convert categorial variables into numeric data using pandas dummies function.\n",
    "\n",
    "The columns which needs to be encoded are,\n",
    "1. HomePlanet\n",
    "2. Destination\n",
    "3. VIP\n",
    "4. Sleep\n",
    "\n",
    "The target column Transported need to be mapped so that 0: False and 1: True"
   ]
  },
  {
   "cell_type": "code",
   "execution_count": 34,
   "id": "aee4f0fa",
   "metadata": {
    "scrolled": true
   },
   "outputs": [],
   "source": [
    "#Converting False into 0 and True into 1\n",
    "df['Transported'] = df['Transported'].astype('bool')*1"
   ]
  },
  {
   "cell_type": "code",
   "execution_count": 41,
   "id": "2c4aad1f",
   "metadata": {},
   "outputs": [],
   "source": [
    "df = pd.get_dummies(data=df,columns=['HomePlanet','Destination','VIP','CryoSleep'])"
   ]
  },
  {
   "cell_type": "markdown",
   "id": "59ecc78d",
   "metadata": {},
   "source": [
    "## Data Processing functions"
   ]
  },
  {
   "cell_type": "markdown",
   "id": "3724e474",
   "metadata": {},
   "source": [
    "The processes of data cleaning is iterative so it will be good if we store in all the data cleaning steps into one function. The advantage is that we need to run all data cleaninf cells and running this one function will do the job"
   ]
  },
  {
   "cell_type": "code",
   "execution_count": 3,
   "id": "063742bd",
   "metadata": {},
   "outputs": [],
   "source": [
    "#function to fill in all missing values\n",
    "\n",
    "def fill_missing_data(df):\n",
    "    #split up selected columns\n",
    "    df[['PassengerId_gggg','PassengerId_pp']] = df['PassengerId'].str.split('_',expand=True)\n",
    "    df[['Cabin_deck','Cabin_num','Cabin_side']] = df['Cabin'].str.split('/',expand=True)\n",
    "    df.drop('Cabin',axis=1,inplace=True)\n",
    "    \n",
    "    # Name is not required for the purpose of predicting since it is unique for each\n",
    "    df['Name'] = df['Name'].fillna(value='Name not entered')\n",
    "    \n",
    "    #Filling NaN age values\n",
    "    df[\"Age\"] = df['Age'].fillna(np.round(df.groupby('PassengerId_pp')['Age'].transform('mean')))\n",
    "    \n",
    "    #filling home planet\n",
    "    df['HomePlanet'] = df['HomePlanet'].fillna('Earth')\n",
    "    \n",
    "    #filling destination\n",
    "    df['Destination'] = df['Destination'].fillna(df.groupby('HomePlanet')['HomePlanet'].transform(lambda x: x.value_counts().index[0]))\n",
    "    \n",
    "    #filling VIP\n",
    "    df['VIP'] = df['VIP'].fillna(df.groupby(['HomePlanet','Destination'])['VIP'].transform(lambda x: x.value_counts().index[0]))\n",
    "    \n",
    "    #filling cryosleep\n",
    "    df['CryoSleep'] = df['CryoSleep'].fillna(df.groupby(['HomePlanet','Destination','VIP'])['CryoSleep'].transform(lambda x: x.value_counts().index[0]))\n",
    "    \n",
    "    #filling extra services\n",
    "    df[df['CryoSleep']==True][['RoomService','FoodCourt','ShoppingMall','Spa','VRDeck']].fillna(0,axis=1,inplace=True)\n",
    "    list1 = ['RoomService','FoodCourt','ShoppingMall','Spa','VRDeck']\n",
    "    df[list1] = df[list1].fillna(df.groupby('VIP')[list1].transform('mean'))\n",
    "    \n",
    "    #filling cabin details\n",
    "    list2 = ['Cabin_deck','Cabin_num','Cabin_side']\n",
    "    df[list2] = df[list2].fillna(df.groupby(['HomePlanet', 'Destination'])[list2].transform(lambda x: x.value_counts().index[0]))\n",
    "    \n",
    "    return df"
   ]
  },
  {
   "cell_type": "markdown",
   "id": "6769469f",
   "metadata": {},
   "source": [
    "Lets also create a function to encode certain columns"
   ]
  },
  {
   "cell_type": "code",
   "execution_count": 4,
   "id": "428ce7b4",
   "metadata": {},
   "outputs": [],
   "source": [
    "# function to encode certain columns\n",
    "\n",
    "def encode_col(df,df_type):\n",
    "    if df_type == 'train':\n",
    "        df['Transported'] = df['Transported'].astype('bool')*1\n",
    "    df = pd.get_dummies(data=df,columns=['HomePlanet','Destination','VIP','CryoSleep','Cabin_deck','Cabin_side'])\n",
    "    \n",
    "    return df"
   ]
  },
  {
   "cell_type": "markdown",
   "id": "35bb43bb",
   "metadata": {},
   "source": [
    "## Final Function"
   ]
  },
  {
   "cell_type": "code",
   "execution_count": 5,
   "id": "df9a9028",
   "metadata": {},
   "outputs": [],
   "source": [
    "def data_preprocess(df,df_type):\n",
    "    df = fill_missing_data(df)\n",
    "    df = encode_col(df,df_type)\n",
    "    \n",
    "    return df"
   ]
  },
  {
   "cell_type": "markdown",
   "id": "64b5687b",
   "metadata": {},
   "source": [
    "## Machine Learning Modeling"
   ]
  },
  {
   "cell_type": "code",
   "execution_count": 6,
   "id": "331a419c",
   "metadata": {},
   "outputs": [],
   "source": [
    "data = pd.read_csv(\"train.csv\")"
   ]
  },
  {
   "cell_type": "code",
   "execution_count": 7,
   "id": "f99194de",
   "metadata": {},
   "outputs": [],
   "source": [
    "data = data_preprocess(df=data,df_type='train')"
   ]
  },
  {
   "cell_type": "code",
   "execution_count": 8,
   "id": "37c47b4d",
   "metadata": {
    "scrolled": true
   },
   "outputs": [
    {
     "data": {
      "text/html": [
       "<div>\n",
       "<style scoped>\n",
       "    .dataframe tbody tr th:only-of-type {\n",
       "        vertical-align: middle;\n",
       "    }\n",
       "\n",
       "    .dataframe tbody tr th {\n",
       "        vertical-align: top;\n",
       "    }\n",
       "\n",
       "    .dataframe thead th {\n",
       "        text-align: right;\n",
       "    }\n",
       "</style>\n",
       "<table border=\"1\" class=\"dataframe\">\n",
       "  <thead>\n",
       "    <tr style=\"text-align: right;\">\n",
       "      <th></th>\n",
       "      <th>PassengerId</th>\n",
       "      <th>Age</th>\n",
       "      <th>RoomService</th>\n",
       "      <th>FoodCourt</th>\n",
       "      <th>ShoppingMall</th>\n",
       "      <th>Spa</th>\n",
       "      <th>VRDeck</th>\n",
       "      <th>Name</th>\n",
       "      <th>Transported</th>\n",
       "      <th>PassengerId_gggg</th>\n",
       "      <th>...</th>\n",
       "      <th>Cabin_deck_A</th>\n",
       "      <th>Cabin_deck_B</th>\n",
       "      <th>Cabin_deck_C</th>\n",
       "      <th>Cabin_deck_D</th>\n",
       "      <th>Cabin_deck_E</th>\n",
       "      <th>Cabin_deck_F</th>\n",
       "      <th>Cabin_deck_G</th>\n",
       "      <th>Cabin_deck_T</th>\n",
       "      <th>Cabin_side_P</th>\n",
       "      <th>Cabin_side_S</th>\n",
       "    </tr>\n",
       "  </thead>\n",
       "  <tbody>\n",
       "    <tr>\n",
       "      <th>0</th>\n",
       "      <td>0001_01</td>\n",
       "      <td>39.0</td>\n",
       "      <td>0.0</td>\n",
       "      <td>0.0</td>\n",
       "      <td>0.0</td>\n",
       "      <td>0.0</td>\n",
       "      <td>0.0</td>\n",
       "      <td>Maham Ofracculy</td>\n",
       "      <td>0</td>\n",
       "      <td>0001</td>\n",
       "      <td>...</td>\n",
       "      <td>0</td>\n",
       "      <td>1</td>\n",
       "      <td>0</td>\n",
       "      <td>0</td>\n",
       "      <td>0</td>\n",
       "      <td>0</td>\n",
       "      <td>0</td>\n",
       "      <td>0</td>\n",
       "      <td>1</td>\n",
       "      <td>0</td>\n",
       "    </tr>\n",
       "    <tr>\n",
       "      <th>1</th>\n",
       "      <td>0002_01</td>\n",
       "      <td>24.0</td>\n",
       "      <td>109.0</td>\n",
       "      <td>9.0</td>\n",
       "      <td>25.0</td>\n",
       "      <td>549.0</td>\n",
       "      <td>44.0</td>\n",
       "      <td>Juanna Vines</td>\n",
       "      <td>1</td>\n",
       "      <td>0002</td>\n",
       "      <td>...</td>\n",
       "      <td>0</td>\n",
       "      <td>0</td>\n",
       "      <td>0</td>\n",
       "      <td>0</td>\n",
       "      <td>0</td>\n",
       "      <td>1</td>\n",
       "      <td>0</td>\n",
       "      <td>0</td>\n",
       "      <td>0</td>\n",
       "      <td>1</td>\n",
       "    </tr>\n",
       "    <tr>\n",
       "      <th>2</th>\n",
       "      <td>0003_01</td>\n",
       "      <td>58.0</td>\n",
       "      <td>43.0</td>\n",
       "      <td>3576.0</td>\n",
       "      <td>0.0</td>\n",
       "      <td>6715.0</td>\n",
       "      <td>49.0</td>\n",
       "      <td>Altark Susent</td>\n",
       "      <td>0</td>\n",
       "      <td>0003</td>\n",
       "      <td>...</td>\n",
       "      <td>1</td>\n",
       "      <td>0</td>\n",
       "      <td>0</td>\n",
       "      <td>0</td>\n",
       "      <td>0</td>\n",
       "      <td>0</td>\n",
       "      <td>0</td>\n",
       "      <td>0</td>\n",
       "      <td>0</td>\n",
       "      <td>1</td>\n",
       "    </tr>\n",
       "    <tr>\n",
       "      <th>3</th>\n",
       "      <td>0003_02</td>\n",
       "      <td>33.0</td>\n",
       "      <td>0.0</td>\n",
       "      <td>1283.0</td>\n",
       "      <td>371.0</td>\n",
       "      <td>3329.0</td>\n",
       "      <td>193.0</td>\n",
       "      <td>Solam Susent</td>\n",
       "      <td>0</td>\n",
       "      <td>0003</td>\n",
       "      <td>...</td>\n",
       "      <td>1</td>\n",
       "      <td>0</td>\n",
       "      <td>0</td>\n",
       "      <td>0</td>\n",
       "      <td>0</td>\n",
       "      <td>0</td>\n",
       "      <td>0</td>\n",
       "      <td>0</td>\n",
       "      <td>0</td>\n",
       "      <td>1</td>\n",
       "    </tr>\n",
       "    <tr>\n",
       "      <th>4</th>\n",
       "      <td>0004_01</td>\n",
       "      <td>16.0</td>\n",
       "      <td>303.0</td>\n",
       "      <td>70.0</td>\n",
       "      <td>151.0</td>\n",
       "      <td>565.0</td>\n",
       "      <td>2.0</td>\n",
       "      <td>Willy Santantines</td>\n",
       "      <td>1</td>\n",
       "      <td>0004</td>\n",
       "      <td>...</td>\n",
       "      <td>0</td>\n",
       "      <td>0</td>\n",
       "      <td>0</td>\n",
       "      <td>0</td>\n",
       "      <td>0</td>\n",
       "      <td>1</td>\n",
       "      <td>0</td>\n",
       "      <td>0</td>\n",
       "      <td>0</td>\n",
       "      <td>1</td>\n",
       "    </tr>\n",
       "    <tr>\n",
       "      <th>...</th>\n",
       "      <td>...</td>\n",
       "      <td>...</td>\n",
       "      <td>...</td>\n",
       "      <td>...</td>\n",
       "      <td>...</td>\n",
       "      <td>...</td>\n",
       "      <td>...</td>\n",
       "      <td>...</td>\n",
       "      <td>...</td>\n",
       "      <td>...</td>\n",
       "      <td>...</td>\n",
       "      <td>...</td>\n",
       "      <td>...</td>\n",
       "      <td>...</td>\n",
       "      <td>...</td>\n",
       "      <td>...</td>\n",
       "      <td>...</td>\n",
       "      <td>...</td>\n",
       "      <td>...</td>\n",
       "      <td>...</td>\n",
       "      <td>...</td>\n",
       "    </tr>\n",
       "    <tr>\n",
       "      <th>8688</th>\n",
       "      <td>9276_01</td>\n",
       "      <td>41.0</td>\n",
       "      <td>0.0</td>\n",
       "      <td>6819.0</td>\n",
       "      <td>0.0</td>\n",
       "      <td>1643.0</td>\n",
       "      <td>74.0</td>\n",
       "      <td>Gravior Noxnuther</td>\n",
       "      <td>0</td>\n",
       "      <td>9276</td>\n",
       "      <td>...</td>\n",
       "      <td>1</td>\n",
       "      <td>0</td>\n",
       "      <td>0</td>\n",
       "      <td>0</td>\n",
       "      <td>0</td>\n",
       "      <td>0</td>\n",
       "      <td>0</td>\n",
       "      <td>0</td>\n",
       "      <td>1</td>\n",
       "      <td>0</td>\n",
       "    </tr>\n",
       "    <tr>\n",
       "      <th>8689</th>\n",
       "      <td>9278_01</td>\n",
       "      <td>18.0</td>\n",
       "      <td>0.0</td>\n",
       "      <td>0.0</td>\n",
       "      <td>0.0</td>\n",
       "      <td>0.0</td>\n",
       "      <td>0.0</td>\n",
       "      <td>Kurta Mondalley</td>\n",
       "      <td>0</td>\n",
       "      <td>9278</td>\n",
       "      <td>...</td>\n",
       "      <td>0</td>\n",
       "      <td>0</td>\n",
       "      <td>0</td>\n",
       "      <td>0</td>\n",
       "      <td>0</td>\n",
       "      <td>0</td>\n",
       "      <td>1</td>\n",
       "      <td>0</td>\n",
       "      <td>0</td>\n",
       "      <td>1</td>\n",
       "    </tr>\n",
       "    <tr>\n",
       "      <th>8690</th>\n",
       "      <td>9279_01</td>\n",
       "      <td>26.0</td>\n",
       "      <td>0.0</td>\n",
       "      <td>0.0</td>\n",
       "      <td>1872.0</td>\n",
       "      <td>1.0</td>\n",
       "      <td>0.0</td>\n",
       "      <td>Fayey Connon</td>\n",
       "      <td>1</td>\n",
       "      <td>9279</td>\n",
       "      <td>...</td>\n",
       "      <td>0</td>\n",
       "      <td>0</td>\n",
       "      <td>0</td>\n",
       "      <td>0</td>\n",
       "      <td>0</td>\n",
       "      <td>0</td>\n",
       "      <td>1</td>\n",
       "      <td>0</td>\n",
       "      <td>0</td>\n",
       "      <td>1</td>\n",
       "    </tr>\n",
       "    <tr>\n",
       "      <th>8691</th>\n",
       "      <td>9280_01</td>\n",
       "      <td>32.0</td>\n",
       "      <td>0.0</td>\n",
       "      <td>1049.0</td>\n",
       "      <td>0.0</td>\n",
       "      <td>353.0</td>\n",
       "      <td>3235.0</td>\n",
       "      <td>Celeon Hontichre</td>\n",
       "      <td>0</td>\n",
       "      <td>9280</td>\n",
       "      <td>...</td>\n",
       "      <td>0</td>\n",
       "      <td>0</td>\n",
       "      <td>0</td>\n",
       "      <td>0</td>\n",
       "      <td>1</td>\n",
       "      <td>0</td>\n",
       "      <td>0</td>\n",
       "      <td>0</td>\n",
       "      <td>0</td>\n",
       "      <td>1</td>\n",
       "    </tr>\n",
       "    <tr>\n",
       "      <th>8692</th>\n",
       "      <td>9280_02</td>\n",
       "      <td>44.0</td>\n",
       "      <td>126.0</td>\n",
       "      <td>4688.0</td>\n",
       "      <td>0.0</td>\n",
       "      <td>0.0</td>\n",
       "      <td>12.0</td>\n",
       "      <td>Propsh Hontichre</td>\n",
       "      <td>1</td>\n",
       "      <td>9280</td>\n",
       "      <td>...</td>\n",
       "      <td>0</td>\n",
       "      <td>0</td>\n",
       "      <td>0</td>\n",
       "      <td>0</td>\n",
       "      <td>1</td>\n",
       "      <td>0</td>\n",
       "      <td>0</td>\n",
       "      <td>0</td>\n",
       "      <td>0</td>\n",
       "      <td>1</td>\n",
       "    </tr>\n",
       "  </tbody>\n",
       "</table>\n",
       "<p>8693 rows × 35 columns</p>\n",
       "</div>"
      ],
      "text/plain": [
       "     PassengerId   Age  RoomService  FoodCourt  ShoppingMall     Spa  VRDeck  \\\n",
       "0        0001_01  39.0          0.0        0.0           0.0     0.0     0.0   \n",
       "1        0002_01  24.0        109.0        9.0          25.0   549.0    44.0   \n",
       "2        0003_01  58.0         43.0     3576.0           0.0  6715.0    49.0   \n",
       "3        0003_02  33.0          0.0     1283.0         371.0  3329.0   193.0   \n",
       "4        0004_01  16.0        303.0       70.0         151.0   565.0     2.0   \n",
       "...          ...   ...          ...        ...           ...     ...     ...   \n",
       "8688     9276_01  41.0          0.0     6819.0           0.0  1643.0    74.0   \n",
       "8689     9278_01  18.0          0.0        0.0           0.0     0.0     0.0   \n",
       "8690     9279_01  26.0          0.0        0.0        1872.0     1.0     0.0   \n",
       "8691     9280_01  32.0          0.0     1049.0           0.0   353.0  3235.0   \n",
       "8692     9280_02  44.0        126.0     4688.0           0.0     0.0    12.0   \n",
       "\n",
       "                   Name  Transported PassengerId_gggg  ... Cabin_deck_A  \\\n",
       "0       Maham Ofracculy            0             0001  ...            0   \n",
       "1          Juanna Vines            1             0002  ...            0   \n",
       "2         Altark Susent            0             0003  ...            1   \n",
       "3          Solam Susent            0             0003  ...            1   \n",
       "4     Willy Santantines            1             0004  ...            0   \n",
       "...                 ...          ...              ...  ...          ...   \n",
       "8688  Gravior Noxnuther            0             9276  ...            1   \n",
       "8689    Kurta Mondalley            0             9278  ...            0   \n",
       "8690       Fayey Connon            1             9279  ...            0   \n",
       "8691   Celeon Hontichre            0             9280  ...            0   \n",
       "8692   Propsh Hontichre            1             9280  ...            0   \n",
       "\n",
       "     Cabin_deck_B  Cabin_deck_C  Cabin_deck_D  Cabin_deck_E  Cabin_deck_F  \\\n",
       "0               1             0             0             0             0   \n",
       "1               0             0             0             0             1   \n",
       "2               0             0             0             0             0   \n",
       "3               0             0             0             0             0   \n",
       "4               0             0             0             0             1   \n",
       "...           ...           ...           ...           ...           ...   \n",
       "8688            0             0             0             0             0   \n",
       "8689            0             0             0             0             0   \n",
       "8690            0             0             0             0             0   \n",
       "8691            0             0             0             1             0   \n",
       "8692            0             0             0             1             0   \n",
       "\n",
       "      Cabin_deck_G  Cabin_deck_T  Cabin_side_P  Cabin_side_S  \n",
       "0                0             0             1             0  \n",
       "1                0             0             0             1  \n",
       "2                0             0             0             1  \n",
       "3                0             0             0             1  \n",
       "4                0             0             0             1  \n",
       "...            ...           ...           ...           ...  \n",
       "8688             0             0             1             0  \n",
       "8689             1             0             0             1  \n",
       "8690             1             0             0             1  \n",
       "8691             0             0             0             1  \n",
       "8692             0             0             0             1  \n",
       "\n",
       "[8693 rows x 35 columns]"
      ]
     },
     "execution_count": 8,
     "metadata": {},
     "output_type": "execute_result"
    }
   ],
   "source": [
    "data"
   ]
  },
  {
   "cell_type": "markdown",
   "id": "4937b18a",
   "metadata": {},
   "source": [
    "Colums that needs to be dropped in X: PassengerId, Name, "
   ]
  },
  {
   "cell_type": "code",
   "execution_count": 8,
   "id": "0b7bda30",
   "metadata": {},
   "outputs": [],
   "source": [
    "X = data.drop(['PassengerId','Name','Transported'],axis=1)"
   ]
  },
  {
   "cell_type": "code",
   "execution_count": 9,
   "id": "8c3c5276",
   "metadata": {},
   "outputs": [],
   "source": [
    "y = data['Transported']"
   ]
  },
  {
   "cell_type": "markdown",
   "id": "eaf6524a",
   "metadata": {},
   "source": [
    "Import the neccessary scikit-learn libraries"
   ]
  },
  {
   "cell_type": "code",
   "execution_count": 39,
   "id": "9b5ca697",
   "metadata": {},
   "outputs": [],
   "source": [
    "from sklearn.ensemble import RandomForestClassifier,AdaBoostClassifier\n",
    "from sklearn.model_selection import train_test_split, GridSearchCV\n",
    "from sklearn.metrics import classification_report, confusion_matrix, ConfusionMatrixDisplay, accuracy_score"
   ]
  },
  {
   "cell_type": "code",
   "execution_count": 11,
   "id": "5a035efe",
   "metadata": {},
   "outputs": [],
   "source": [
    "X_train, X_test, y_train, y_test = train_test_split(X, y, test_size=0.2, random_state=42)"
   ]
  },
  {
   "cell_type": "markdown",
   "id": "29c72946",
   "metadata": {},
   "source": [
    "We will also define a function to check the metrics of a certain model. Since this process is also iterative, defining it as a function will make it reuasble making the process efficient"
   ]
  },
  {
   "cell_type": "code",
   "execution_count": 12,
   "id": "47e84757",
   "metadata": {},
   "outputs": [],
   "source": [
    "def model_report(model,X_test,y_test):\n",
    "    y_pred = model.predict(X_test)\n",
    "    print('Accuracy score is',accuracy_score(y_test,y_pred))\n",
    "    print(classification_report(y_test,y_pred))\n",
    "    ConfusionMatrixDisplay(confusion_matrix(y_test,y_pred)).plot()"
   ]
  },
  {
   "cell_type": "code",
   "execution_count": 13,
   "id": "6560e94a",
   "metadata": {},
   "outputs": [],
   "source": [
    "rfc = RandomForestClassifier()"
   ]
  },
  {
   "cell_type": "code",
   "execution_count": 14,
   "id": "f9ebe0cc",
   "metadata": {},
   "outputs": [
    {
     "data": {
      "text/plain": [
       "RandomForestClassifier()"
      ]
     },
     "execution_count": 14,
     "metadata": {},
     "output_type": "execute_result"
    }
   ],
   "source": [
    "rfc.fit(X_train,y_train)"
   ]
  },
  {
   "cell_type": "code",
   "execution_count": 14,
   "id": "178677e4",
   "metadata": {
    "scrolled": true
   },
   "outputs": [
    {
     "name": "stdout",
     "output_type": "stream",
     "text": [
      "Accuracy score is 0.7958596894767107\n",
      "              precision    recall  f1-score   support\n",
      "\n",
      "           0       0.78      0.82      0.80       861\n",
      "           1       0.81      0.77      0.79       878\n",
      "\n",
      "    accuracy                           0.80      1739\n",
      "   macro avg       0.80      0.80      0.80      1739\n",
      "weighted avg       0.80      0.80      0.80      1739\n",
      "\n"
     ]
    },
    {
     "data": {
      "image/png": "[encoded data removed]",
      "text/plain": [
       "<Figure size 640x480 with 2 Axes>"
      ]
     },
     "metadata": {},
     "output_type": "display_data"
    }
   ],
   "source": [
    "model_report(rfc,X_test,y_test)"
   ]
  },
  {
   "cell_type": "code",
   "execution_count": 15,
   "id": "2e06ae5e",
   "metadata": {},
   "outputs": [],
   "source": [
    "rdc_param = {\n",
    "    'n_estimators': [100, 50, 125, 150, 75],\n",
    "    'criterion': ['gini','entropy'],\n",
    "    'max_features': ['sqrt','log2'],\n",
    "    'bootstrap': [True,False],\n",
    "    'class_weight': ['balanced']\n",
    "}"
   ]
  },
  {
   "cell_type": "code",
   "execution_count": 16,
   "id": "6cf57adc",
   "metadata": {},
   "outputs": [],
   "source": [
    "rfc_grid = GridSearchCV(estimator=rfc,param_grid=rdc_param,scoring='accuracy',cv=3,verbose=1,n_jobs=-1)"
   ]
  },
  {
   "cell_type": "code",
   "execution_count": 17,
   "id": "64124e2e",
   "metadata": {},
   "outputs": [
    {
     "name": "stdout",
     "output_type": "stream",
     "text": [
      "Fitting 3 folds for each of 40 candidates, totalling 120 fits\n"
     ]
    },
    {
     "data": {
      "text/plain": [
       "GridSearchCV(cv=3, estimator=RandomForestClassifier(), n_jobs=-1,\n",
       "             param_grid={'bootstrap': [True, False],\n",
       "                         'class_weight': ['balanced'],\n",
       "                         'criterion': ['gini', 'entropy'],\n",
       "                         'max_features': ['sqrt', 'log2'],\n",
       "                         'n_estimators': [100, 50, 125, 150, 75]},\n",
       "             scoring='accuracy', verbose=1)"
      ]
     },
     "execution_count": 17,
     "metadata": {},
     "output_type": "execute_result"
    }
   ],
   "source": [
    "rfc_grid.fit(X_train,y_train)"
   ]
  },
  {
   "cell_type": "code",
   "execution_count": 18,
   "id": "a57ed38a",
   "metadata": {},
   "outputs": [
    {
     "data": {
      "text/plain": [
       "RandomForestClassifier(class_weight='balanced', criterion='entropy',\n",
       "                       max_features='sqrt', n_estimators=50)"
      ]
     },
     "execution_count": 18,
     "metadata": {},
     "output_type": "execute_result"
    }
   ],
   "source": [
    "rfc_grid.best_estimator_"
   ]
  },
  {
   "cell_type": "code",
   "execution_count": 19,
   "id": "9b256b61",
   "metadata": {
    "scrolled": true
   },
   "outputs": [
    {
     "name": "stdout",
     "output_type": "stream",
     "text": [
      "Accuracy score is 0.7849338700402531\n",
      "              precision    recall  f1-score   support\n",
      "\n",
      "           0       0.77      0.81      0.79       861\n",
      "           1       0.80      0.76      0.78       878\n",
      "\n",
      "    accuracy                           0.78      1739\n",
      "   macro avg       0.79      0.79      0.78      1739\n",
      "weighted avg       0.79      0.78      0.78      1739\n",
      "\n"
     ]
    },
    {
     "data": {
      "image/png": "[encoded data removed]",
      "text/plain": [
       "<Figure size 640x480 with 2 Axes>"
      ]
     },
     "metadata": {},
     "output_type": "display_data"
    }
   ],
   "source": [
    "model_report(rfc_grid.best_estimator_,X_test,y_test)"
   ]
  },
  {
   "cell_type": "markdown",
   "id": "84bf6fdf",
   "metadata": {},
   "source": [
    "Once of the major advantage in using a RandomForestClassifier() model is that we can view the feature importances and visualise them. What one can infer from this plot is the weightage of data features the model is using while predicting the target variable. Although this doesn't have any significant purpose in modelling, it is a great tool to visualise and infer insights from the data. "
   ]
  },
  {
   "cell_type": "code",
   "execution_count": 20,
   "id": "abfb7ce7",
   "metadata": {
    "scrolled": true
   },
   "outputs": [
    {
     "data": {
      "image/png": "[encoded data removed]",
      "text/plain": [
       "<Figure size 800x600 with 1 Axes>"
      ]
     },
     "metadata": {},
     "output_type": "display_data"
    }
   ],
   "source": [
    "ft_imp = pd.Series(data=rfc_grid.best_estimator_.feature_importances_,index=X.columns).sort_values(ascending=False)\n",
    "\n",
    "plt.figure(figsize=(8,6))\n",
    "sns.barplot(x=ft_imp.index,y=ft_imp)\n",
    "plt.xticks(rotation=90);"
   ]
  },
  {
   "cell_type": "markdown",
   "id": "7fa75270",
   "metadata": {},
   "source": [
    "We will now use a AdaBoostClassifier and pass in the best estimator obtained above into this model."
   ]
  },
  {
   "cell_type": "code",
   "execution_count": 21,
   "id": "b2727366",
   "metadata": {},
   "outputs": [],
   "source": [
    "ada = AdaBoostClassifier(rfc_grid.best_estimator_)"
   ]
  },
  {
   "cell_type": "code",
   "execution_count": 54,
   "id": "bae29be1",
   "metadata": {},
   "outputs": [],
   "source": [
    "ada_param = {\n",
    "    'learning_rate': [0.25,0.5,0.75,1,1.25,1.5,1.75,2],\n",
    "    'n_estimators': [25,50,75,100,125,150,175,200]\n",
    "}"
   ]
  },
  {
   "cell_type": "code",
   "execution_count": 55,
   "id": "20ecdef2",
   "metadata": {},
   "outputs": [],
   "source": [
    "ada_grid = GridSearchCV(estimator=ada,param_grid=ada_param,scoring='accuracy',cv=3,verbose=1,n_jobs=-1)"
   ]
  },
  {
   "cell_type": "code",
   "execution_count": 56,
   "id": "245bcfcb",
   "metadata": {},
   "outputs": [
    {
     "name": "stdout",
     "output_type": "stream",
     "text": [
      "Fitting 3 folds for each of 64 candidates, totalling 192 fits\n"
     ]
    },
    {
     "data": {
      "text/plain": [
       "GridSearchCV(cv=3,\n",
       "             estimator=AdaBoostClassifier(base_estimator=RandomForestClassifier(class_weight='balanced',\n",
       "                                                                                criterion='entropy',\n",
       "                                                                                max_features='sqrt',\n",
       "                                                                                n_estimators=50)),\n",
       "             n_jobs=-1,\n",
       "             param_grid={'learning_rate': [0.25, 0.5, 0.75, 1, 1.25, 1.5, 1.75,\n",
       "                                           2],\n",
       "                         'n_estimators': [25, 50, 75, 100, 125, 150, 175, 200]},\n",
       "             scoring='accuracy', verbose=1)"
      ]
     },
     "execution_count": 56,
     "metadata": {},
     "output_type": "execute_result"
    }
   ],
   "source": [
    "ada_grid.fit(X_train,y_train)"
   ]
  },
  {
   "cell_type": "code",
   "execution_count": 57,
   "id": "bf684aa1",
   "metadata": {},
   "outputs": [
    {
     "data": {
      "text/plain": [
       "AdaBoostClassifier(base_estimator=RandomForestClassifier(class_weight='balanced',\n",
       "                                                         criterion='entropy',\n",
       "                                                         max_features='sqrt',\n",
       "                                                         n_estimators=50),\n",
       "                   learning_rate=1, n_estimators=100)"
      ]
     },
     "execution_count": 57,
     "metadata": {},
     "output_type": "execute_result"
    }
   ],
   "source": [
    "ada_grid.best_estimator_"
   ]
  },
  {
   "cell_type": "code",
   "execution_count": 58,
   "id": "3d968f09",
   "metadata": {
    "scrolled": true
   },
   "outputs": [
    {
     "name": "stdout",
     "output_type": "stream",
     "text": [
      "Accuracy score is 0.7987349051178838\n",
      "              precision    recall  f1-score   support\n",
      "\n",
      "           0       0.79      0.82      0.80       861\n",
      "           1       0.81      0.78      0.80       878\n",
      "\n",
      "    accuracy                           0.80      1739\n",
      "   macro avg       0.80      0.80      0.80      1739\n",
      "weighted avg       0.80      0.80      0.80      1739\n",
      "\n"
     ]
    },
    {
     "data": {
      "image/png": "[encoded data removed]",
      "text/plain": [
       "<Figure size 640x480 with 2 Axes>"
      ]
     },
     "metadata": {},
     "output_type": "display_data"
    }
   ],
   "source": [
    "model_report(ada_grid.best_estimator_,X_test,y_test)"
   ]
  },
  {
   "cell_type": "markdown",
   "id": "ce5b105b",
   "metadata": {},
   "source": [
    "With this we are ending the modelling part. We will use our two models, random forest and ada boost classifiers, to get predictions for the test data"
   ]
  },
  {
   "cell_type": "markdown",
   "id": "1eab29f1",
   "metadata": {},
   "source": [
    "## Test Data and Final Predictions"
   ]
  },
  {
   "cell_type": "markdown",
   "id": "857a8d90",
   "metadata": {},
   "source": [
    "In this last section we will import the training data, do the data preprocessing steps and the finally get predictions using the two models that we have built"
   ]
  },
  {
   "cell_type": "code",
   "execution_count": 59,
   "id": "b22f5c2f",
   "metadata": {},
   "outputs": [],
   "source": [
    "tdf = pd.read_csv('test.csv')"
   ]
  },
  {
   "cell_type": "code",
   "execution_count": 41,
   "id": "38e8824f",
   "metadata": {},
   "outputs": [],
   "source": [
    "tdf = data_preprocess(tdf,'test')"
   ]
  },
  {
   "cell_type": "code",
   "execution_count": 42,
   "id": "b6e63b63",
   "metadata": {
    "scrolled": true
   },
   "outputs": [
    {
     "data": {
      "text/html": [
       "<div>\n",
       "<style scoped>\n",
       "    .dataframe tbody tr th:only-of-type {\n",
       "        vertical-align: middle;\n",
       "    }\n",
       "\n",
       "    .dataframe tbody tr th {\n",
       "        vertical-align: top;\n",
       "    }\n",
       "\n",
       "    .dataframe thead th {\n",
       "        text-align: right;\n",
       "    }\n",
       "</style>\n",
       "<table border=\"1\" class=\"dataframe\">\n",
       "  <thead>\n",
       "    <tr style=\"text-align: right;\">\n",
       "      <th></th>\n",
       "      <th>PassengerId</th>\n",
       "      <th>Age</th>\n",
       "      <th>RoomService</th>\n",
       "      <th>FoodCourt</th>\n",
       "      <th>ShoppingMall</th>\n",
       "      <th>Spa</th>\n",
       "      <th>VRDeck</th>\n",
       "      <th>Name</th>\n",
       "      <th>PassengerId_gggg</th>\n",
       "      <th>PassengerId_pp</th>\n",
       "      <th>...</th>\n",
       "      <th>Cabin_deck_A</th>\n",
       "      <th>Cabin_deck_B</th>\n",
       "      <th>Cabin_deck_C</th>\n",
       "      <th>Cabin_deck_D</th>\n",
       "      <th>Cabin_deck_E</th>\n",
       "      <th>Cabin_deck_F</th>\n",
       "      <th>Cabin_deck_G</th>\n",
       "      <th>Cabin_deck_T</th>\n",
       "      <th>Cabin_side_P</th>\n",
       "      <th>Cabin_side_S</th>\n",
       "    </tr>\n",
       "  </thead>\n",
       "  <tbody>\n",
       "    <tr>\n",
       "      <th>0</th>\n",
       "      <td>0013_01</td>\n",
       "      <td>27.0</td>\n",
       "      <td>0.0</td>\n",
       "      <td>0.0</td>\n",
       "      <td>0.0</td>\n",
       "      <td>0.0</td>\n",
       "      <td>0.0</td>\n",
       "      <td>Nelly Carsoning</td>\n",
       "      <td>0013</td>\n",
       "      <td>01</td>\n",
       "      <td>...</td>\n",
       "      <td>0</td>\n",
       "      <td>0</td>\n",
       "      <td>0</td>\n",
       "      <td>0</td>\n",
       "      <td>0</td>\n",
       "      <td>0</td>\n",
       "      <td>1</td>\n",
       "      <td>0</td>\n",
       "      <td>0</td>\n",
       "      <td>1</td>\n",
       "    </tr>\n",
       "    <tr>\n",
       "      <th>1</th>\n",
       "      <td>0018_01</td>\n",
       "      <td>19.0</td>\n",
       "      <td>0.0</td>\n",
       "      <td>9.0</td>\n",
       "      <td>0.0</td>\n",
       "      <td>2823.0</td>\n",
       "      <td>0.0</td>\n",
       "      <td>Lerome Peckers</td>\n",
       "      <td>0018</td>\n",
       "      <td>01</td>\n",
       "      <td>...</td>\n",
       "      <td>0</td>\n",
       "      <td>0</td>\n",
       "      <td>0</td>\n",
       "      <td>0</td>\n",
       "      <td>0</td>\n",
       "      <td>1</td>\n",
       "      <td>0</td>\n",
       "      <td>0</td>\n",
       "      <td>0</td>\n",
       "      <td>1</td>\n",
       "    </tr>\n",
       "    <tr>\n",
       "      <th>2</th>\n",
       "      <td>0019_01</td>\n",
       "      <td>31.0</td>\n",
       "      <td>0.0</td>\n",
       "      <td>0.0</td>\n",
       "      <td>0.0</td>\n",
       "      <td>0.0</td>\n",
       "      <td>0.0</td>\n",
       "      <td>Sabih Unhearfus</td>\n",
       "      <td>0019</td>\n",
       "      <td>01</td>\n",
       "      <td>...</td>\n",
       "      <td>0</td>\n",
       "      <td>0</td>\n",
       "      <td>1</td>\n",
       "      <td>0</td>\n",
       "      <td>0</td>\n",
       "      <td>0</td>\n",
       "      <td>0</td>\n",
       "      <td>0</td>\n",
       "      <td>0</td>\n",
       "      <td>1</td>\n",
       "    </tr>\n",
       "    <tr>\n",
       "      <th>3</th>\n",
       "      <td>0021_01</td>\n",
       "      <td>38.0</td>\n",
       "      <td>0.0</td>\n",
       "      <td>6652.0</td>\n",
       "      <td>0.0</td>\n",
       "      <td>181.0</td>\n",
       "      <td>585.0</td>\n",
       "      <td>Meratz Caltilter</td>\n",
       "      <td>0021</td>\n",
       "      <td>01</td>\n",
       "      <td>...</td>\n",
       "      <td>0</td>\n",
       "      <td>0</td>\n",
       "      <td>1</td>\n",
       "      <td>0</td>\n",
       "      <td>0</td>\n",
       "      <td>0</td>\n",
       "      <td>0</td>\n",
       "      <td>0</td>\n",
       "      <td>0</td>\n",
       "      <td>1</td>\n",
       "    </tr>\n",
       "    <tr>\n",
       "      <th>4</th>\n",
       "      <td>0023_01</td>\n",
       "      <td>20.0</td>\n",
       "      <td>10.0</td>\n",
       "      <td>0.0</td>\n",
       "      <td>635.0</td>\n",
       "      <td>0.0</td>\n",
       "      <td>0.0</td>\n",
       "      <td>Brence Harperez</td>\n",
       "      <td>0023</td>\n",
       "      <td>01</td>\n",
       "      <td>...</td>\n",
       "      <td>0</td>\n",
       "      <td>0</td>\n",
       "      <td>0</td>\n",
       "      <td>0</td>\n",
       "      <td>0</td>\n",
       "      <td>1</td>\n",
       "      <td>0</td>\n",
       "      <td>0</td>\n",
       "      <td>0</td>\n",
       "      <td>1</td>\n",
       "    </tr>\n",
       "    <tr>\n",
       "      <th>...</th>\n",
       "      <td>...</td>\n",
       "      <td>...</td>\n",
       "      <td>...</td>\n",
       "      <td>...</td>\n",
       "      <td>...</td>\n",
       "      <td>...</td>\n",
       "      <td>...</td>\n",
       "      <td>...</td>\n",
       "      <td>...</td>\n",
       "      <td>...</td>\n",
       "      <td>...</td>\n",
       "      <td>...</td>\n",
       "      <td>...</td>\n",
       "      <td>...</td>\n",
       "      <td>...</td>\n",
       "      <td>...</td>\n",
       "      <td>...</td>\n",
       "      <td>...</td>\n",
       "      <td>...</td>\n",
       "      <td>...</td>\n",
       "      <td>...</td>\n",
       "    </tr>\n",
       "    <tr>\n",
       "      <th>4272</th>\n",
       "      <td>9266_02</td>\n",
       "      <td>34.0</td>\n",
       "      <td>0.0</td>\n",
       "      <td>0.0</td>\n",
       "      <td>0.0</td>\n",
       "      <td>0.0</td>\n",
       "      <td>0.0</td>\n",
       "      <td>Jeron Peter</td>\n",
       "      <td>9266</td>\n",
       "      <td>02</td>\n",
       "      <td>...</td>\n",
       "      <td>0</td>\n",
       "      <td>0</td>\n",
       "      <td>0</td>\n",
       "      <td>0</td>\n",
       "      <td>0</td>\n",
       "      <td>0</td>\n",
       "      <td>1</td>\n",
       "      <td>0</td>\n",
       "      <td>0</td>\n",
       "      <td>1</td>\n",
       "    </tr>\n",
       "    <tr>\n",
       "      <th>4273</th>\n",
       "      <td>9269_01</td>\n",
       "      <td>42.0</td>\n",
       "      <td>0.0</td>\n",
       "      <td>847.0</td>\n",
       "      <td>17.0</td>\n",
       "      <td>10.0</td>\n",
       "      <td>144.0</td>\n",
       "      <td>Matty Scheron</td>\n",
       "      <td>9269</td>\n",
       "      <td>01</td>\n",
       "      <td>...</td>\n",
       "      <td>0</td>\n",
       "      <td>0</td>\n",
       "      <td>0</td>\n",
       "      <td>0</td>\n",
       "      <td>0</td>\n",
       "      <td>0</td>\n",
       "      <td>1</td>\n",
       "      <td>0</td>\n",
       "      <td>1</td>\n",
       "      <td>0</td>\n",
       "    </tr>\n",
       "    <tr>\n",
       "      <th>4274</th>\n",
       "      <td>9271_01</td>\n",
       "      <td>30.0</td>\n",
       "      <td>0.0</td>\n",
       "      <td>0.0</td>\n",
       "      <td>0.0</td>\n",
       "      <td>0.0</td>\n",
       "      <td>0.0</td>\n",
       "      <td>Jayrin Pore</td>\n",
       "      <td>9271</td>\n",
       "      <td>01</td>\n",
       "      <td>...</td>\n",
       "      <td>0</td>\n",
       "      <td>0</td>\n",
       "      <td>0</td>\n",
       "      <td>1</td>\n",
       "      <td>0</td>\n",
       "      <td>0</td>\n",
       "      <td>0</td>\n",
       "      <td>0</td>\n",
       "      <td>1</td>\n",
       "      <td>0</td>\n",
       "    </tr>\n",
       "    <tr>\n",
       "      <th>4275</th>\n",
       "      <td>9273_01</td>\n",
       "      <td>30.0</td>\n",
       "      <td>0.0</td>\n",
       "      <td>2680.0</td>\n",
       "      <td>0.0</td>\n",
       "      <td>0.0</td>\n",
       "      <td>523.0</td>\n",
       "      <td>Kitakan Conale</td>\n",
       "      <td>9273</td>\n",
       "      <td>01</td>\n",
       "      <td>...</td>\n",
       "      <td>0</td>\n",
       "      <td>0</td>\n",
       "      <td>0</td>\n",
       "      <td>1</td>\n",
       "      <td>0</td>\n",
       "      <td>0</td>\n",
       "      <td>0</td>\n",
       "      <td>0</td>\n",
       "      <td>1</td>\n",
       "      <td>0</td>\n",
       "    </tr>\n",
       "    <tr>\n",
       "      <th>4276</th>\n",
       "      <td>9277_01</td>\n",
       "      <td>43.0</td>\n",
       "      <td>0.0</td>\n",
       "      <td>0.0</td>\n",
       "      <td>0.0</td>\n",
       "      <td>0.0</td>\n",
       "      <td>0.0</td>\n",
       "      <td>Lilace Leonzaley</td>\n",
       "      <td>9277</td>\n",
       "      <td>01</td>\n",
       "      <td>...</td>\n",
       "      <td>0</td>\n",
       "      <td>0</td>\n",
       "      <td>0</td>\n",
       "      <td>0</td>\n",
       "      <td>0</td>\n",
       "      <td>0</td>\n",
       "      <td>1</td>\n",
       "      <td>0</td>\n",
       "      <td>0</td>\n",
       "      <td>1</td>\n",
       "    </tr>\n",
       "  </tbody>\n",
       "</table>\n",
       "<p>4277 rows × 34 columns</p>\n",
       "</div>"
      ],
      "text/plain": [
       "     PassengerId   Age  RoomService  FoodCourt  ShoppingMall     Spa  VRDeck  \\\n",
       "0        0013_01  27.0          0.0        0.0           0.0     0.0     0.0   \n",
       "1        0018_01  19.0          0.0        9.0           0.0  2823.0     0.0   \n",
       "2        0019_01  31.0          0.0        0.0           0.0     0.0     0.0   \n",
       "3        0021_01  38.0          0.0     6652.0           0.0   181.0   585.0   \n",
       "4        0023_01  20.0         10.0        0.0         635.0     0.0     0.0   \n",
       "...          ...   ...          ...        ...           ...     ...     ...   \n",
       "4272     9266_02  34.0          0.0        0.0           0.0     0.0     0.0   \n",
       "4273     9269_01  42.0          0.0      847.0          17.0    10.0   144.0   \n",
       "4274     9271_01  30.0          0.0        0.0           0.0     0.0     0.0   \n",
       "4275     9273_01  30.0          0.0     2680.0           0.0     0.0   523.0   \n",
       "4276     9277_01  43.0          0.0        0.0           0.0     0.0     0.0   \n",
       "\n",
       "                  Name PassengerId_gggg PassengerId_pp  ... Cabin_deck_A  \\\n",
       "0      Nelly Carsoning             0013             01  ...            0   \n",
       "1       Lerome Peckers             0018             01  ...            0   \n",
       "2      Sabih Unhearfus             0019             01  ...            0   \n",
       "3     Meratz Caltilter             0021             01  ...            0   \n",
       "4      Brence Harperez             0023             01  ...            0   \n",
       "...                ...              ...            ...  ...          ...   \n",
       "4272       Jeron Peter             9266             02  ...            0   \n",
       "4273     Matty Scheron             9269             01  ...            0   \n",
       "4274       Jayrin Pore             9271             01  ...            0   \n",
       "4275    Kitakan Conale             9273             01  ...            0   \n",
       "4276  Lilace Leonzaley             9277             01  ...            0   \n",
       "\n",
       "      Cabin_deck_B  Cabin_deck_C  Cabin_deck_D  Cabin_deck_E  Cabin_deck_F  \\\n",
       "0                0             0             0             0             0   \n",
       "1                0             0             0             0             1   \n",
       "2                0             1             0             0             0   \n",
       "3                0             1             0             0             0   \n",
       "4                0             0             0             0             1   \n",
       "...            ...           ...           ...           ...           ...   \n",
       "4272             0             0             0             0             0   \n",
       "4273             0             0             0             0             0   \n",
       "4274             0             0             1             0             0   \n",
       "4275             0             0             1             0             0   \n",
       "4276             0             0             0             0             0   \n",
       "\n",
       "      Cabin_deck_G  Cabin_deck_T  Cabin_side_P  Cabin_side_S  \n",
       "0                1             0             0             1  \n",
       "1                0             0             0             1  \n",
       "2                0             0             0             1  \n",
       "3                0             0             0             1  \n",
       "4                0             0             0             1  \n",
       "...            ...           ...           ...           ...  \n",
       "4272             1             0             0             1  \n",
       "4273             1             0             1             0  \n",
       "4274             0             0             1             0  \n",
       "4275             0             0             1             0  \n",
       "4276             1             0             0             1  \n",
       "\n",
       "[4277 rows x 34 columns]"
      ]
     },
     "execution_count": 42,
     "metadata": {},
     "output_type": "execute_result"
    }
   ],
   "source": [
    "tdf"
   ]
  },
  {
   "cell_type": "markdown",
   "id": "b37b8c8f",
   "metadata": {},
   "source": [
    "We will define another function here which will take in a model, data to fit and train the model and the data to get predictions"
   ]
  },
  {
   "cell_type": "code",
   "execution_count": 43,
   "id": "086202c9",
   "metadata": {},
   "outputs": [],
   "source": [
    "def get_preds(model,X,y,tdf):\n",
    "    model.fit(X,y)\n",
    "    t_pred = model.predict(tdf.drop(['PassengerId','Name'],axis=1))\n",
    "    result = pd.DataFrame(data=[tdf['PassengerId'],t_pred]).transpose()\n",
    "    result.set_index('PassengerId',inplace=True)\n",
    "    result.rename(columns={'Unnamed 0':'Transported'},inplace=True)\n",
    "    result['Transported'] = result['Transported'].map({0:'False',1:'True'})\n",
    "    \n",
    "    return result"
   ]
  },
  {
   "cell_type": "code",
   "execution_count": 44,
   "id": "14064f45",
   "metadata": {},
   "outputs": [],
   "source": [
    "fnl1 = get_preds(rfc_grid.best_estimator_,X,y,tdf)"
   ]
  },
  {
   "cell_type": "code",
   "execution_count": 45,
   "id": "0b2924c9",
   "metadata": {},
   "outputs": [],
   "source": [
    "fnl1.to_csv('submit1.csv')"
   ]
  },
  {
   "cell_type": "code",
   "execution_count": 46,
   "id": "d4769496",
   "metadata": {},
   "outputs": [],
   "source": [
    "fnl2 = get_preds(ada_grid.best_estimator_,X,y,tdf)"
   ]
  },
  {
   "cell_type": "code",
   "execution_count": 47,
   "id": "24d0cd8d",
   "metadata": {},
   "outputs": [],
   "source": [
    "fnl2.to_csv('submit2.csv')"
   ]
  },
  {
   "cell_type": "code",
   "execution_count": null,
   "id": "4e1146a8",
   "metadata": {},
   "outputs": [],
   "source": []
  }
 ],
 "metadata": {
  "kernelspec": {
   "display_name": "Python 3 (ipykernel)",
   "language": "python",
   "name": "python3"
  },
  "language_info": {
   "codemirror_mode": {
    "name": "ipython",
    "version": 3
   },
   "file_extension": ".py",
   "mimetype": "text/x-python",
   "name": "python",
   "nbconvert_exporter": "python",
   "pygments_lexer": "ipython3",
   "version": "3.9.13"
  },
  "vscode": {
   "interpreter": {
    "hash": "88279d2366fe020547cde40dd65aa0e3aa662a6ec1f3ca12d88834876c85e1a6"
   }
  }
 },
 "nbformat": 4,
 "nbformat_minor": 5
}
